{
 "cells": [
  {
   "cell_type": "markdown",
   "metadata": {},
   "source": [
    "Projeto: Recomendações de filmes de animações e programas de TV.\n",
    "\n",
    "Objetivo: Abordar algumas recomendações, técnicas usadas e verificar a quantidade de empresas.\n",
    "\n",
    "Descrição das colunas:\n",
    "\n",
    "-ID: identificador único\n",
    "\n",
    "-Título: nome \n",
    "\n",
    "-Episódios: quantidade \n",
    "\n",
    "-Ano: ano\n",
    "\n",
    "-Canal Original: canal original\n",
    "\n",
    "-Empresa Americana: nomes das empresas\n",
    "\n",
    "-Nota: origem da produção\n",
    "\n",
    "-Técnica: técnica usada\n",
    "\n",
    "-IMDb: pontuação\n",
    "\n",
    "-Usuários do Google: pontuação do usuário google"
   ]
  },
  {
   "cell_type": "code",
   "execution_count": 1,
   "metadata": {},
   "outputs": [],
   "source": [
    "# Importação das bibliotecas\n",
    "import pandas as pd\n",
    "import numpy as np"
   ]
  },
  {
   "cell_type": "code",
   "execution_count": 2,
   "metadata": {},
   "outputs": [
    {
     "data": {
      "text/html": [
       "<div>\n",
       "<style scoped>\n",
       "    .dataframe tbody tr th:only-of-type {\n",
       "        vertical-align: middle;\n",
       "    }\n",
       "\n",
       "    .dataframe tbody tr th {\n",
       "        vertical-align: top;\n",
       "    }\n",
       "\n",
       "    .dataframe thead th {\n",
       "        text-align: right;\n",
       "    }\n",
       "</style>\n",
       "<table border=\"1\" class=\"dataframe\">\n",
       "  <thead>\n",
       "    <tr style=\"text-align: right;\">\n",
       "      <th></th>\n",
       "      <th>Id</th>\n",
       "      <th>Title</th>\n",
       "      <th>Episodes</th>\n",
       "      <th>Year</th>\n",
       "      <th>Original channel</th>\n",
       "      <th>American company</th>\n",
       "      <th>Note</th>\n",
       "      <th>Technique</th>\n",
       "      <th>IMDb</th>\n",
       "      <th>Google users</th>\n",
       "    </tr>\n",
       "  </thead>\n",
       "  <tbody>\n",
       "    <tr>\n",
       "      <th>0</th>\n",
       "      <td>1</td>\n",
       "      <td>2 Stupid Dogs</td>\n",
       "      <td>26.0</td>\n",
       "      <td>1993-1995</td>\n",
       "      <td>TBS</td>\n",
       "      <td>Hanna-Barbera</td>\n",
       "      <td>NaN</td>\n",
       "      <td>Traditional</td>\n",
       "      <td>7.2</td>\n",
       "      <td>91%</td>\n",
       "    </tr>\n",
       "    <tr>\n",
       "      <th>1</th>\n",
       "      <td>2</td>\n",
       "      <td>3-2-1 Penguins!</td>\n",
       "      <td>27.0</td>\n",
       "      <td>2000-2008</td>\n",
       "      <td>Direct to video</td>\n",
       "      <td>Big Idea Productions</td>\n",
       "      <td>NaN</td>\n",
       "      <td>CGI</td>\n",
       "      <td>6.5</td>\n",
       "      <td>91%</td>\n",
       "    </tr>\n",
       "    <tr>\n",
       "      <th>2</th>\n",
       "      <td>3</td>\n",
       "      <td>3-South</td>\n",
       "      <td>13.0</td>\n",
       "      <td>2002-2003</td>\n",
       "      <td>MTV</td>\n",
       "      <td>Warner Bros. AnimationMTV Animation</td>\n",
       "      <td>NaN</td>\n",
       "      <td>Traditional</td>\n",
       "      <td>8.0</td>\n",
       "      <td>87%</td>\n",
       "    </tr>\n",
       "  </tbody>\n",
       "</table>\n",
       "</div>"
      ],
      "text/plain": [
       "   Id            Title  Episodes       Year Original channel  \\\n",
       "0   1    2 Stupid Dogs      26.0  1993-1995              TBS   \n",
       "1   2  3-2-1 Penguins!      27.0  2000-2008  Direct to video   \n",
       "2   3          3-South      13.0  2002-2003              MTV   \n",
       "\n",
       "                      American company Note    Technique  IMDb Google users  \n",
       "0                        Hanna-Barbera  NaN  Traditional   7.2          91%  \n",
       "1                 Big Idea Productions  NaN          CGI   6.5          91%  \n",
       "2  Warner Bros. AnimationMTV Animation  NaN  Traditional   8.0          87%  "
      ]
     },
     "execution_count": 2,
     "metadata": {},
     "output_type": "execute_result"
    }
   ],
   "source": [
    "# Abrir a base de dados\n",
    "df=pd.read_csv('C:\\\\Users\\\\Usuário\\\\Downloads\\\\portifolio\\\\archive (2)\\\\Animated_Tv_Series.csv',sep=',', encoding='latin-1')\n",
    "df.head(3)"
   ]
  },
  {
   "cell_type": "code",
   "execution_count": 263,
   "metadata": {},
   "outputs": [
    {
     "data": {
      "text/plain": [
       "Index(['Id', 'Title', 'Episodes', 'Year', 'Original channel',\n",
       "       'American company', 'Note', 'Technique', 'IMDb', 'Google users'],\n",
       "      dtype='object')"
      ]
     },
     "execution_count": 263,
     "metadata": {},
     "output_type": "execute_result"
    }
   ],
   "source": [
    "# Todas das colunas\n",
    "df.columns"
   ]
  },
  {
   "cell_type": "code",
   "execution_count": 3,
   "metadata": {},
   "outputs": [
    {
     "data": {
      "text/plain": [
       "Index(['ID', 'Título', 'Episódios', 'Ano', 'Canal Original',\n",
       "       'Empresa Americana', 'Nota', 'Técnica', 'IMDb', 'Usuários do Google'],\n",
       "      dtype='object')"
      ]
     },
     "execution_count": 3,
     "metadata": {},
     "output_type": "execute_result"
    }
   ],
   "source": [
    "# Renomeando as colunas\n",
    "df.columns=['ID', 'Título', 'Episódios', 'Ano', 'Canal Original',\n",
    "       'Empresa Americana', 'Nota', 'Técnica', 'IMDb', 'Usuários do Google']\n",
    "df.columns"
   ]
  },
  {
   "cell_type": "code",
   "execution_count": 265,
   "metadata": {},
   "outputs": [
    {
     "data": {
      "text/plain": [
       "(1816, 10)"
      ]
     },
     "execution_count": 265,
     "metadata": {},
     "output_type": "execute_result"
    }
   ],
   "source": [
    "# Números de linhas e colunas\n",
    "df.shape"
   ]
  },
  {
   "cell_type": "code",
   "execution_count": 4,
   "metadata": {},
   "outputs": [
    {
     "data": {
      "text/plain": [
       "ID                    1816\n",
       "Título                1816\n",
       "Episódios             1798\n",
       "Ano                   1816\n",
       "Canal Original        1809\n",
       "Empresa Americana     1771\n",
       "Nota                   488\n",
       "Técnica               1816\n",
       "IMDb                  1812\n",
       "Usuários do Google    1812\n",
       "dtype: int64"
      ]
     },
     "execution_count": 4,
     "metadata": {},
     "output_type": "execute_result"
    }
   ],
   "source": [
    "# Verificando duplicatas\n",
    "df.drop_duplicates().count()"
   ]
  },
  {
   "cell_type": "code",
   "execution_count": 5,
   "metadata": {},
   "outputs": [],
   "source": [
    "# Salvando a base sem duplicatas\n",
    "df.drop_duplicates(inplace=True)"
   ]
  },
  {
   "cell_type": "code",
   "execution_count": 6,
   "metadata": {},
   "outputs": [
    {
     "data": {
      "text/plain": [
       "ID                       0\n",
       "Título                   0\n",
       "Episódios               18\n",
       "Ano                      0\n",
       "Canal Original           7\n",
       "Empresa Americana       45\n",
       "Nota                  1328\n",
       "Técnica                  0\n",
       "IMDb                     4\n",
       "Usuários do Google       4\n",
       "dtype: int64"
      ]
     },
     "execution_count": 6,
     "metadata": {},
     "output_type": "execute_result"
    }
   ],
   "source": [
    "# Verificar dados ausentes\n",
    "df.isnull().sum()"
   ]
  },
  {
   "cell_type": "markdown",
   "metadata": {},
   "source": [
    "Completar dados ausentes"
   ]
  },
  {
   "cell_type": "code",
   "execution_count": 7,
   "metadata": {},
   "outputs": [],
   "source": [
    "df['Episódios'] = df['Episódios'].fillna(0)"
   ]
  },
  {
   "cell_type": "code",
   "execution_count": 8,
   "metadata": {},
   "outputs": [],
   "source": [
    "df['Canal Original'] = df['Canal Original'].fillna(0)"
   ]
  },
  {
   "cell_type": "code",
   "execution_count": 9,
   "metadata": {},
   "outputs": [],
   "source": [
    "df['Empresa Americana'] = df['Empresa Americana'].fillna(0)"
   ]
  },
  {
   "cell_type": "code",
   "execution_count": 10,
   "metadata": {},
   "outputs": [],
   "source": [
    "df['Nota'] = df['Nota'].fillna(0)"
   ]
  },
  {
   "cell_type": "code",
   "execution_count": 11,
   "metadata": {},
   "outputs": [],
   "source": [
    "df['IMDb'] = df['IMDb'].fillna(0)"
   ]
  },
  {
   "cell_type": "code",
   "execution_count": 12,
   "metadata": {},
   "outputs": [],
   "source": [
    "df['Usuários do Google'] = df['Usuários do Google'].fillna(0)"
   ]
  },
  {
   "cell_type": "markdown",
   "metadata": {},
   "source": [
    "Começar as análises"
   ]
  },
  {
   "cell_type": "code",
   "execution_count": 13,
   "metadata": {},
   "outputs": [
    {
     "data": {
      "text/plain": [
       "array(['91%', '87%', '77%', '92%', '85%', '72%', '83%', '86%', '76%',\n",
       "       '57%', '60%', '78%', '66%', '81%', '54%', '93%', '95%', '82%',\n",
       "       '88%', '94%', '73%', '64%', '89%', '80%', '55%', '25%', '74%',\n",
       "       '79%', '69%', '62%', '90%', '84%', '61%', '39%', '65%', '59%',\n",
       "       '70%', '68%', '96%', '53%', '71%', '41%', '44%', '75%', '52%',\n",
       "       '46%', '56%', '58%', '98%', '67%', '10%', '48%', 0, '42%', '49%',\n",
       "       '63%', '50%', '34%', '45%', '36%', '97%', '26%', '9%', '47%',\n",
       "       '12%', '51%', '31%', '33%', '37%', '32%', '35%', '24%', '21%',\n",
       "       '14%', '38%', '16%', '43%', '11%', '100%'], dtype=object)"
      ]
     },
     "execution_count": 13,
     "metadata": {},
     "output_type": "execute_result"
    }
   ],
   "source": [
    "# Verificando valores únicos coluna 'Usuários do Google'\n",
    "df['Usuários do Google'].unique()"
   ]
  },
  {
   "cell_type": "code",
   "execution_count": 14,
   "metadata": {},
   "outputs": [
    {
     "data": {
      "text/plain": [
       "1768    100\n",
       "227      98\n",
       "495      98\n",
       "1002     98\n",
       "994      98\n",
       "432      98\n",
       "189      98\n",
       "1695     97\n",
       "598      97\n",
       "683      97\n",
       "Name: Usuários do Google, dtype: int32"
      ]
     },
     "execution_count": 14,
     "metadata": {},
     "output_type": "execute_result"
    }
   ],
   "source": [
    "# Converte todos os valores da coluna 'Usuários do Google' para string\n",
    "df['Usuários do Google'] = df['Usuários do Google'].astype(str)\n",
    "\n",
    "# Remove o símbolo '%' e converte para float, tratando os valores NaN\n",
    "df['Usuários do Google'] = df['Usuários do Google'].str.replace('%', '').astype(float)\n",
    "\n",
    "# Converte os valores para inteiros\n",
    "df['Usuários do Google'] = df['Usuários do Google'].astype(int)\n",
    "\n",
    "# Classifique a série por valores (porcentagens) em ordem decrescente\n",
    "contagem_ordenada = df['Usuários do Google'].sort_values(ascending=False)\n",
    "\n",
    "# Mostrar resultado\n",
    "pd.set_option('display.max_rows', None)\n",
    "contagem_ordenada.head(10)"
   ]
  },
  {
   "cell_type": "code",
   "execution_count": 15,
   "metadata": {},
   "outputs": [],
   "source": [
    "# Importação de bibliotecas para visualização\n",
    "import seaborn as sns\n",
    "import matplotlib.pyplot as plt"
   ]
  },
  {
   "cell_type": "code",
   "execution_count": 16,
   "metadata": {},
   "outputs": [
    {
     "data": {
      "image/png": "[encoded data removed]",
      "text/plain": [
       "<Figure size 640x480 with 1 Axes>"
      ]
     },
     "metadata": {},
     "output_type": "display_data"
    }
   ],
   "source": [
    "# Identificando outliers\n",
    "sns.boxplot(x=df['Usuários do Google']);"
   ]
  },
  {
   "cell_type": "code",
   "execution_count": 17,
   "metadata": {},
   "outputs": [
    {
     "data": {
      "text/plain": [
       "array([  0,   9,  10,  11,  12,  14,  16,  21,  24,  25,  26,  31,  32,\n",
       "        33,  34,  35,  36,  37,  38,  39,  41,  42,  43,  44,  45,  46,\n",
       "        47,  48,  49,  50,  51,  52,  53,  54,  55,  56,  57,  58,  59,\n",
       "        60,  61,  62,  63,  64,  65,  66,  67,  68,  69,  70,  71,  72,\n",
       "        73,  74,  75,  76,  77,  78,  79,  80,  81,  82,  83,  84,  85,\n",
       "        86,  87,  88,  89,  90,  91,  92,  93,  94,  95,  96,  97,  98,\n",
       "       100])"
      ]
     },
     "execution_count": 17,
     "metadata": {},
     "output_type": "execute_result"
    }
   ],
   "source": [
    "# Ordeando \n",
    "ordenar=df['Usuários do Google'].unique()\n",
    "ordenar.sort()\n",
    "ordenar"
   ]
  },
  {
   "cell_type": "code",
   "execution_count": 18,
   "metadata": {},
   "outputs": [
    {
     "name": "stdout",
     "output_type": "stream",
     "text": [
      "-------Recomendação pelo Usuário do Google--------\n",
      "\n",
      "1. The Wonderful Stories of Professor Kitzel, Porcentagem: 100%\n",
      "2. Bee and PuppyCat: Lazy in Space, Porcentagem: 98%\n",
      "3. Epithet Erased, Porcentagem: 98%\n",
      "4. Misterjaw, Porcentagem: 98%\n",
      "5. Mina and the Count, Porcentagem: 98%\n",
      "6. Downtown, Porcentagem: 98%\n",
      "7. Braingames, Porcentagem: 98%\n",
      "8. Visionaries: Knights of the Magical Light, Porcentagem: 97%\n",
      "9. Gary & Mike, Porcentagem: 97%\n",
      "10. Helluva Boss, Porcentagem: 97%\n"
     ]
    }
   ],
   "source": [
    "# Classifique a série por valores em ordem decrescente\n",
    "contagem_ordenada = df['Usuários do Google'].sort_values(ascending=False)\n",
    "\n",
    "print(f'{\"Recomendação pelo Usuário do Google\":-^50}')\n",
    "print()\n",
    "for i, index in enumerate(contagem_ordenada.head(10).index, 1): # Loop nos valores maiores\n",
    "    nome = df.loc[index, 'Título']  \n",
    "    print(f\"{i}. {nome}, Porcentagem: {contagem_ordenada[index]}%\")"
   ]
  },
  {
   "cell_type": "code",
   "execution_count": 19,
   "metadata": {},
   "outputs": [
    {
     "data": {
      "text/plain": [
       "array(['1993-1995', '2000-2008', '2002-2003', '2018-2019', '2008-2010',\n",
       "       '2014-2016', '2005-2020', '1985', '1997-1998', '1994-1997',\n",
       "       '2009-2012', '2015', '1972-1973', '1967-1968', '2022-2023',\n",
       "       '2001-2002', '1995-1996', '2021-present', '1973', '1992-1993',\n",
       "       '2013-2015', '2010-2018', '2020-2021', '2023-present', '1996-2000',\n",
       "       '1968-1969', '2006', '2001', '2002-2006', '2018', '2004-2005',\n",
       "       '2015-2016', '1950', '1956-1957', '2015-2018', '1988', '1959-1964',\n",
       "       '1992-1996', '1958-1961', '1966-1968', '1985-1991', '1991-1995',\n",
       "       '2023', '2022', '1994-1995', '1988-1989', '1987-1989',\n",
       "       '2022-present', '2019', '1996-1998', '2003-2008', '2014-2017',\n",
       "       '1978-1983', '1993', '1977-1978', '2011', '1983-1990', '1961-1962',\n",
       "       '1972', '2005-present', '2005-2007', '2019-2022', '1997-2001',\n",
       "       '2016-2018', '1993-1998', '2020-2023', '2017', '2018-2021',\n",
       "       '2000-present', '1967-1970', '2021', '2009-2023', '2019-2021',\n",
       "       '1971-1973', '2016-2019', '2006-2008', '2014-2015', '1965-1967',\n",
       "       '1990-1991', '1965-1968', '1959-1962', '2005-2006', '2005-2008',\n",
       "       '2013-2019', '2010-2011', '1995-2000', '2000-2001', '2010-2012',\n",
       "       '2013-2017', '1990', '2015-2023', '2006-2007', '2011-present',\n",
       "       '1996-2011', '1999-2001', '2009-2010', '2007-2008', '1999-2000',\n",
       "       '1996-2022', '2000-2006', '2000-2002', '2001-2006', '1977',\n",
       "       '1973-1974', '2018-2020', '2009-present', '1968-1970', '1953-1955',\n",
       "       '1966-1967', '2004-2008', '1992-1995', '2008-2011', '1994',\n",
       "       '1993-present', '2017-2021', '2012-2014', '2008', '2000-2010',\n",
       "       '2016-2020', '2018-present', '2017-present', '1964', '1993-1996',\n",
       "       '2021-2022', '1983-1984', '2012-2015', '2010', '2020', '2007',\n",
       "       '1996-2006', '2014-2020', '1993-1994', '2005-2014', '2016',\n",
       "       '1958-1962', '1983-1985', '2000-2003', '2004-2006', '1998-1999',\n",
       "       '1987-1988', '1964-1965', '1991-1993', '1959-1960', '1991',\n",
       "       '2019-2020', '1960-2000', '2004-2007', '2020-present', '2007-2011',\n",
       "       '1991-1992', '2004-2013', '1998-2000', '2012-2018', '1978-1980',\n",
       "       '1996-1999', '1996', '1989-1991', '1985-1987', '1987', '1981',\n",
       "       '2014-present', '2015-2017', '2019-present', '1990-1998', '2013',\n",
       "       '1999', '2017-2018', '2001-2003', '1989', '1978-1993',\n",
       "       '1961-1962, 1964-1965', '2016-present', '1978-1979', '1990-1996',\n",
       "       '1996-1997', '1959', '2012', '2008-2014', '1995-1998, 2012-2014',\n",
       "       '1979', '1998-2005', '1984-1985', '1969-1971', '2020-2022', '1986',\n",
       "       '2002-2008', '1978', '2000-2005', '2011-2015', '1989-1990',\n",
       "       '2007-2010', '2014', '1999-2003', '2014-2018', '2005', '2009-2013',\n",
       "       '1976', '1957-1960', '1964-1966', '1999-2002', '1960-1962',\n",
       "       '1997-1999', '2021-2023', '2006-2022', '2014-2019', '1989-1992',\n",
       "       '1986-1988', '1985-1989', '1998-2002, 2006-2007', '2006-2010',\n",
       "       '2009-2014', '2003-2006', '2002-2003, 2023-present', '2004',\n",
       "       '1994-1996', '1950-1959', '1982', '2002-present', '1984',\n",
       "       '2011-2013', '1997-2002', '1995', '1969-1970', '1961-1973',\n",
       "       '2011-2014', '1986-1987', '1960-1964', '1974', '1996-2003',\n",
       "       '2010-2015', '2018-2023', '2009', '2012-2020', '1970-1971',\n",
       "       '1983-1992', '1992-1997', '2000-2019', '2017-2020', '1979-1980',\n",
       "       '2008-2009', '1995-2002', '2003-2005', '1987-1990', '1983',\n",
       "       '1976-1977', '2012-present', '2024-present', '1980', '2009-2020',\n",
       "       '2000', '1992-1994', '2013-2018', '1991-1999', '1999-2005',\n",
       "       '1999-2009', '2001-2004', '1985-1986', '1997', '2002', '2015-2021',\n",
       "       '2001-2017', '1999-present', '1970-1984', '2018-2022', '1988-1990',\n",
       "       '1998', '1972-1985', '1958-1960', '1992', '2002-2004', '2010-2014',\n",
       "       '1972-1974', '1980-1981', '1982-1984', '1960-1966', '2004-2009',\n",
       "       '1975', '2003', '1971-1972', '1963', '1983-1986', '1995-1998',\n",
       "       '1988-1994', '2009-2016', '2003-2004', '2010-2013', '1967',\n",
       "       '2007-2017', '2021-2024', '2009-2011', '2005-2011', '2000, 2011',\n",
       "       '2013-2014', '2012-2016', '2003-2007', '2015-2019', '1956',\n",
       "       '2017-2019', '1962-1963', '1978-1984', '2000-2007', '1950-1964',\n",
       "       '1987-1993', '2002-2010', '1981-1982', '1996-2004', '1960-1961',\n",
       "       '2006-2009', '1999-2004', '1964-1967', '2024', '2006-2013',\n",
       "       '1997-2000', '1982-1983', '2011-2016', '1985-1988',\n",
       "       '1962-1963, 1985-1987', '1949-1950', '1997-2004', '1970-1972',\n",
       "       '1965-1974', '2012-2013', '2002-2007', '1966-1969', '1960-1963',\n",
       "       '1997-present', '2016-2017', '2008-2012', '1964-1969', '2005-2009',\n",
       "       '1995-1999', '1963-1965', '1965-1966', '1995-1997', '1959-1961',\n",
       "       '1989-1995', '1990-1994', '2006-2016', '1955-1967',\n",
       "       '2011-2016, 2021-present', '2012-2017', '2002-2005', '1984-1991',\n",
       "       '1993-2001', '1963-1966', '2003-2009', '2010-2019', '2015-2024',\n",
       "       '1979-1982', '1974-1975', '1980-1982', '1961', '1966-1970',\n",
       "       '1988-1991', '1963-1964', '2015-2020', '2007-2009', '1960',\n",
       "       '1998-2001', '2009-2015', '2004-2007, 2014', '2004-2012',\n",
       "       '2007-present', '1984-1986', '1969-1980', '1979-1981', '2001-2005',\n",
       "       '2004-2011', '2008-2015', '2006-2011', '2010-2017', '1970',\n",
       "       '1991-1996', '1980-1984', '2013-present', '1966-1972', '2005-2022',\n",
       "       '1965-1969', '1991-2004', '2016-2021', '1970-1974', '2013-2016',\n",
       "       '1973-2009', '1976-1978', '1969-1978', '2011-2012', '1989-present',\n",
       "       '1965', '1981-1989', '1984-1989', '1981-1983', '2000-2004',\n",
       "       '1980-1983', '2010-2023', '1969-present', '2008-2013', '1962-1964',\n",
       "       '1994-2008', '2005-2021', '2008-2020', '2011-2021', '2005-2010',\n",
       "       '2011-2017', '2007-2016', '1949-1952', '1987-1996', '1996-2002',\n",
       "       '1990-1995', '1990-1993', '2014-2021', '1957-1959', '1992-2003',\n",
       "       '1984-1987', '1993-1999', '1975-1976', '1993-2015', '1990-1992',\n",
       "       '1994-1999', '1998-2004', '1953-1957, 1969-1973', '1957-1977',\n",
       "       '2007-2015', '2010-2022'], dtype=object)"
      ]
     },
     "execution_count": 19,
     "metadata": {},
     "output_type": "execute_result"
    }
   ],
   "source": [
    "# Verificar valores únicos\n",
    "df['Ano'].unique()"
   ]
  },
  {
   "cell_type": "code",
   "execution_count": 20,
   "metadata": {},
   "outputs": [],
   "source": [
    "# Remover expressão '-present'\n",
    "df['Ano'] = df['Ano'].str.replace('-present', '')\n"
   ]
  },
  {
   "cell_type": "code",
   "execution_count": 21,
   "metadata": {},
   "outputs": [],
   "source": [
    "# Copiando df para preservando o original\n",
    "df_copia = df.copy()"
   ]
  },
  {
   "cell_type": "code",
   "execution_count": 22,
   "metadata": {},
   "outputs": [
    {
     "name": "stdout",
     "output_type": "stream",
     "text": [
      "--------Recomendação apartir do ano 2000 com 70% de aprovação---------\n",
      "Adventure Time: Fionna and Cake\n",
      "The Adventures of Chico and Guapo\n",
      "The Adventures of Kid Danger\n",
      "Agent Elvis\n",
      "Alabama Jackson\n",
      "Alien: Isolation - The Digital Series\n",
      "Alien News Desk\n",
      "American Dad!\n",
      "Apollo Gauntlet\n",
      "Aqua Teen Hunger Force\n"
     ]
    }
   ],
   "source": [
    "# Transformar tipo do 'Ano' para numérico\n",
    "convertendo=df_copia['Ano']=pd.to_numeric(df_copia['Ano'], errors='coerce')\n",
    "\n",
    "print(f'{\"Recomendação apartir do ano 2000 com 70% de aprovação\":-^70}')\n",
    "\n",
    "# Filtro de filmes ou serie apartir de 2000 com mais de 70% de aceitação\n",
    "convertendo=df_copia[(df_copia['Ano'] >= 2000) & (df_copia['Usuários do Google'] >= 70)]['Título']\n",
    "convertendo2=convertendo.head(10).to_string(index=False)\n",
    "\n",
    "for i in convertendo2.split('\\n'):\n",
    "    print(i.lstrip())"
   ]
  },
  {
   "cell_type": "code",
   "execution_count": 23,
   "metadata": {},
   "outputs": [
    {
     "name": "stdout",
     "output_type": "stream",
     "text": [
      "['1949-1950', '1949-1952', '1950', '1950-1959', '1950-1964', '1953-1955', '1953-1957, 1969-1973', '1955-1967', '1956', '1956-1957', '1957-1959', '1957-1960', '1957-1960', '1957-1977', '1958-1960', '1958-1961', '1958-1961', '1958-1961', '1958-1962', '1959', '1959-1960', '1959-1960', '1959-1960', '1959-1960', '1959-1961', '1959-1961', '1959-1961', '1959-1962', '1959-1964', '1960', '1960-1961', '1960-1961', '1960-1961', '1960-1962', '1960-1962', '1960-1963', '1960-1963', '1960-1964', '1960-1966', '1960-2000', '1961', '1961', '1961-1962', '1961-1962', '1961-1962', '1961-1962', '1961-1962, 1964-1965', '1961-1973', '1962-1963', '1962-1963', '1962-1963', '1962-1963', '1962-1963, 1985-1987', '1962-1964', '1963', '1963', '1963-1964', '1963-1965', '1963-1966', '1963-1966', '1964', '1964-1965', '1964-1965', '1964-1966', '1964-1966', '1964-1966', '1964-1966', '1964-1967', '1964-1967', '1964-1967', '1964-1967', '1964-1967', '1964-1969', '1965', '1965-1966', '1965-1966', '1965-1966', '1965-1966', '1965-1966', '1965-1967', '1965-1967', '1965-1967', '1965-1967', '1965-1968', '1965-1968', '1965-1969', '1965-1974', '1966-1967', '1966-1967', '1966-1967', '1966-1967', '1966-1967', '1966-1967', '1966-1967', '1966-1967', '1966-1967', '1966-1967', '1966-1967', '1966-1968', '1966-1969', '1966-1969', '1966-1970', '1966-1972', '1967', '1967-1968', '1967-1968', '1967-1968', '1967-1968', '1967-1968', '1967-1968', '1967-1968', '1967-1968', '1967-1968', '1967-1968', '1967-1968', '1967-1968', '1967-1970', '1967-1970', '1968-1969', '1968-1969', '1968-1969', '1968-1969', '1968-1969', '1968-1969', '1968-1969', '1968-1969', '1968-1969', '1968-1970', '1969', '1969-1970', '1969-1970', '1969-1970', '1969-1970', '1969-1971', '1969-1971', '1969-1971', '1969-1978', '1969-1980', '1970', '1970', '1970-1971', '1970-1971', '1970-1971', '1970-1972', '1970-1974', '1970-1984', '1971-1972', '1971-1972', '1971-1972', '1971-1973', '1972', '1972', '1972', '1972', '1972', '1972', '1972', '1972', '1972-1973', '1972-1973', '1972-1973', '1972-1973', '1972-1973', '1972-1973', '1972-1973', '1972-1974', '1972-1974', '1972-1985', '1973', '1973', '1973', '1973', '1973', '1973', '1973', '1973', '1973-1974', '1973-1974', '1973-1974', '1973-2009', '1974', '1974', '1974', '1974', '1974', '1974', '1974-1975', '1974-1975', '1974-1975', '1975', '1975', '1975', '1975', '1975', '1975', '1975-1976', '1976', '1976', '1976', '1976-1977', '1976-1977', '1976-1977', '1976-1977', '1976-1978', '1977', '1977', '1977', '1977', '1977', '1977', '1977', '1977', '1977', '1977', '1977', '1977', '1977', '1977-1978', '1977-1978', '1977-1978', '1977-1978', '1977-1978', '1977-1978', '1977-1978', '1977-1978', '1978', '1978', '1978', '1978', '1978', '1978-1979', '1978-1979', '1978-1979', '1978-1979', '1978-1980', '1978-1980', '1978-1980', '1978-1980', '1978-1983', '1978-1984', '1978-1993', '1979', '1979', '1979', '1979-1980', '1979-1980', '1979-1980', '1979-1980', '1979-1980', '1979-1980', '1979-1980', '1979-1980', '1979-1981', '1979-1982', '1980', '1980', '1980', '1980-1981', '1980-1981', '1980-1981', '1980-1981', '1980-1981', '1980-1981', '1980-1981', '1980-1981', '1980-1982', '1980-1982', '1980-1982', '1980-1983', '1980-1984', '1981', '1981', '1981', '1981', '1981-1982', '1981-1982', '1981-1982', '1981-1982', '1981-1982', '1981-1982', '1981-1982', '1981-1982', '1981-1983', '1981-1989', '1982', '1982', '1982', '1982', '1982', '1982', '1982-1983', '1982-1983', '1982-1983', '1982-1983', '1982-1983', '1982-1983', '1982-1983', '1982-1984', '1982-1984', '1983', '1983', '1983', '1983-1984', '1983-1984', '1983-1984', '1983-1984', '1983-1985', '1983-1985', '1983-1985', '1983-1985', '1983-1985', '1983-1986', '1983-1986', '1983-1986', '1983-1990', '1983-1992', '1983-1992', '1984', '1984', '1984', '1984', '1984', '1984', '1984', '1984-1985', '1984-1985', '1984-1985', '1984-1985', '1984-1985', '1984-1985', '1984-1986', '1984-1986', '1984-1987', '1984-1989', '1984-1991', '1985', '1985', '1985', '1985', '1985', '1985', '1985', '1985-1986', '1985-1986', '1985-1986', '1985-1986', '1985-1986', '1985-1986', '1985-1986', '1985-1986', '1985-1987', '1985-1987', '1985-1987', '1985-1987', '1985-1988', '1985-1988', '1985-1989', '1985-1989', '1985-1991', '1986', '1986', '1986', '1986', '1986', '1986', '1986', '1986', '1986', '1986-1987', '1986-1987', '1986-1987', '1986-1987', '1986-1987', '1986-1987', '1986-1987', '1986-1987', '1986-1987', '1986-1987', '1986-1987', '1986-1988', '1986-1988', '1986-1988', '1986-1988', '1987', '1987', '1987', '1987', '1987', '1987', '1987', '1987', '1987', '1987', '1987', '1987', '1987', '1987', '1987-1988', '1987-1988', '1987-1988', '1987-1988', '1987-1988', '1987-1989', '1987-1990', '1987-1993', '1987-1996', '1988', '1988', '1988', '1988', '1988', '1988', '1988', '1988', '1988', '1988-1989', '1988-1989', '1988-1990', '1988-1990', '1988-1991', '1988-1991', '1988-1994', '1989', '1989', '1989', '1989', '1989', '1989', '1989', '1989', '1989-1990', '1989-1990', '1989-1990', '1989-1991', '1989-1991', '1989-1992', '1989-1992', '1989-1992', '1989-1995', '1990', '1990', '1990', '1990', '1990', '1990', '1990', '1990', '1990', '1990', '1990-1991', '1990-1991', '1990-1991', '1990-1991', '1990-1991', '1990-1991', '1990-1991', '1990-1991', '1990-1991', '1990-1991', '1990-1991', '1990-1992', '1990-1993', '1990-1994', '1990-1995', '1990-1996', '1990-1998', '1991', '1991', '1991', '1991', '1991', '1991', '1991', '1991', '1991-1992', '1991-1992', '1991-1992', '1991-1992', '1991-1992', '1991-1992', '1991-1992', '1991-1992', '1991-1993', '1991-1993', '1991-1993', '1991-1993', '1991-1995', '1991-1995', '1991-1995', '1991-1996', '1991-1999', '1991-1999', '1991-2004', '1992', '1992', '1992', '1992', '1992', '1992', '1992-1993', '1992-1993', '1992-1993', '1992-1993', '1992-1993', '1992-1993', '1992-1993', '1992-1993', '1992-1993', '1992-1994', '1992-1994', '1992-1995', '1992-1995', '1992-1996', '1992-1996', '1992-1997', '1992-1997', '1992-1997', '1992-2003', '1993', '1993', '1993', '1993', '1993', '1993', '1993', '1993-1994', '1993-1994', '1993-1994', '1993-1994', '1993-1994', '1993-1994', '1993-1994', '1993-1995', '1993-1995', '1993-1995', '1993-1995', '1993-1995', '1993-1996', '1993-1996', '1993-1996', '1993-1998', '1993-1999', '1993-2001', '1993-2015', '1994', '1994', '1994', '1994', '1994', '1994', '1994', '1994', '1994-1995', '1994-1995', '1994-1995', '1994-1995', '1994-1995', '1994-1995', '1994-1995', '1994-1995', '1994-1996', '1994-1996', '1994-1996', '1994-1996', '1994-1996', '1994-1996', '1994-1996', '1994-1996', '1994-1996', '1994-1997', '1994-1997', '1994-1997', '1994-1997', '1994-1997', '1994-1997', '1994-1999', '1994-2008', '1995', '1995', '1995', '1995', '1995', '1995', '1995', '1995-1996', '1995-1996', '1995-1996', '1995-1996', '1995-1996', '1995-1996', '1995-1996', '1995-1996', '1995-1996', '1995-1996', '1995-1996', '1995-1996', '1995-1996', '1995-1997', '1995-1997', '1995-1997', '1995-1997', '1995-1998', '1995-1998', '1995-1998', '1995-1998, 2012-2014', '1995-1999', '1995-1999', '1995-1999', '1995-2000', '1995-2000', '1995-2000', '1995-2002', '1995-2002', '1996', '1996', '1996', '1996', '1996', '1996', '1996', '1996', '1996', '1996', '1996', '1996', '1996', '1996', '1996-1997', '1996-1997', '1996-1997', '1996-1997', '1996-1997', '1996-1997', '1996-1997', '1996-1997', '1996-1997', '1996-1997', '1996-1997', '1996-1998', '1996-1998', '1996-1998', '1996-1998', '1996-1998', '1996-1998', '1996-1998', '1996-1999', '1996-1999', '1996-2000', '1996-2000', '1996-2002', '1996-2003', '1996-2004', '1996-2006', '1996-2011', '1996-2022', '1997', '1997', '1997', '1997', '1997', '1997', '1997', '1997', '1997', '1997', '1997-1998', '1997-1998', '1997-1998', '1997-1998', '1997-1998', '1997-1998', '1997-1998', '1997-1998', '1997-1998', '1997-1998', '1997-1998', '1997-1999', '1997-1999', '1997-2000', '1997-2000', '1997-2000', '1997-2000', '1997-2001', '1997-2001', '1997-2001', '1997-2002', '1997-2002', '1997-2004', '1998', '1998', '1998', '1998-1999', '1998-1999', '1998-1999', '1998-1999', '1998-1999', '1998-1999', '1998-1999', '1998-1999', '1998-1999', '1998-1999', '1998-2000', '1998-2000', '1998-2000', '1998-2000', '1998-2000', '1998-2000', '1998-2001', '1998-2002, 2006-2007', '1998-2004', '1998-2005', '1998-2005', '1998-2005', '1999', '1999', '1999', '1999', '1999', '1999', '1999', '1999', '1999', '1999-2000', '1999-2000', '1999-2000', '1999-2000', '1999-2000', '1999-2000', '1999-2000', '1999-2000', '1999-2000', '1999-2000', '1999-2000', '1999-2000', '1999-2000', '1999-2000', '1999-2000', '1999-2000', '1999-2000', '1999-2000', '1999-2001', '1999-2001', '1999-2001', '1999-2001', '1999-2001', '1999-2001', '1999-2001', '1999-2001', '1999-2001', '1999-2001', '1999-2002', '1999-2003', '1999-2003', '1999-2004', '1999-2004', '1999-2004', '1999-2005', '1999-2009', '2000', '2000', '2000', '2000', '2000', '2000, 2011', '2000-2001', '2000-2001', '2000-2001', '2000-2001', '2000-2001', '2000-2001', '2000-2001', '2000-2001', '2000-2002', '2000-2002', '2000-2002', '2000-2002', '2000-2002', '2000-2002', '2000-2002', '2000-2002', '2000-2002', '2000-2002', '2000-2003', '2000-2003', '2000-2003', '2000-2004', '2000-2004', '2000-2005', '2000-2005', '2000-2006', '2000-2007', '2000-2008', '2000-2010', '2000-2019', '2001', '2001', '2001', '2001', '2001', '2001-2002', '2001-2002', '2001-2002', '2001-2002', '2001-2002', '2001-2002', '2001-2002', '2001-2002', '2001-2002', '2001-2002', '2001-2002', '2001-2002', '2001-2003', '2001-2003', '2001-2003', '2001-2003', '2001-2003', '2001-2003', '2001-2003', '2001-2003', '2001-2004', '2001-2004', '2001-2004', '2001-2004', '2001-2004', '2001-2005', '2001-2005', '2001-2006', '2001-2006', '2001-2017', '2001-2017', '2002', '2002', '2002', '2002', '2002-2003', '2002-2003', '2002-2003', '2002-2003', '2002-2003', '2002-2003', '2002-2003', '2002-2003', '2002-2003', '2002-2003, 2023', '2002-2004', '2002-2004', '2002-2004', '2002-2004', '2002-2004', '2002-2004', '2002-2005', '2002-2006', '2002-2006', '2002-2006', '2002-2007', '2002-2008', '2002-2008', '2002-2010', '2003', '2003', '2003', '2003', '2003', '2003', '2003', '2003', '2003-2004', '2003-2004', '2003-2004', '2003-2004', '2003-2005', '2003-2005', '2003-2005', '2003-2006', '2003-2006', '2003-2006', '2003-2006', '2003-2007', '2003-2007', '2003-2007', '2003-2008', '2003-2008', '2003-2008', '2003-2009', '2003-2009', '2004', '2004', '2004', '2004', '2004', '2004', '2004', '2004', '2004', '2004-2005', '2004-2005', '2004-2005', '2004-2005', '2004-2005', '2004-2005', '2004-2005', '2004-2006', '2004-2006', '2004-2006', '2004-2006', '2004-2006', '2004-2006', '2004-2006', '2004-2006', '2004-2007', '2004-2007', '2004-2007', '2004-2007', '2004-2007', '2004-2007', '2004-2007', '2004-2007, 2014', '2004-2008', '2004-2008', '2004-2008', '2004-2009', '2004-2009', '2004-2011', '2004-2012', '2004-2012', '2004-2013', '2005', '2005', '2005', '2005', '2005', '2005', '2005', '2005', '2005-2006', '2005-2006', '2005-2006', '2005-2006', '2005-2006', '2005-2006', '2005-2006', '2005-2006', '2005-2006', '2005-2006', '2005-2006', '2005-2006', '2005-2006', '2005-2007', '2005-2007', '2005-2007', '2005-2007', '2005-2008', '2005-2008', '2005-2008', '2005-2008', '2005-2008', '2005-2008', '2005-2008', '2005-2008', '2005-2009', '2005-2010', '2005-2011', '2005-2014', '2005-2014', '2005-2020', '2005-2021', '2005-2022', '2006', '2006', '2006', '2006', '2006', '2006', '2006', '2006', '2006', '2006', '2006', '2006', '2006-2007', '2006-2007', '2006-2007', '2006-2007', '2006-2008', '2006-2008', '2006-2008', '2006-2008', '2006-2008', '2006-2008', '2006-2008', '2006-2008', '2006-2008', '2006-2008', '2006-2008', '2006-2008', '2006-2009', '2006-2009', '2006-2009', '2006-2009', '2006-2010', '2006-2010', '2006-2010', '2006-2010', '2006-2011', '2006-2013', '2006-2013', '2006-2016', '2006-2016', '2006-2022', '2007', '2007', '2007', '2007', '2007', '2007', '2007', '2007', '2007', '2007', '2007-2008', '2007-2008', '2007-2008', '2007-2008', '2007-2008', '2007-2008', '2007-2008', '2007-2008', '2007-2008', '2007-2008', '2007-2008', '2007-2008', '2007-2008', '2007-2009', '2007-2009', '2007-2009', '2007-2009', '2007-2009', '2007-2009', '2007-2010', '2007-2010', '2007-2011', '2007-2011', '2007-2015', '2007-2015', '2007-2016', '2007-2017', '2008', '2008', '2008', '2008', '2008', '2008', '2008', '2008', '2008', '2008', '2008', '2008', '2008', '2008-2009', '2008-2009', '2008-2009', '2008-2009', '2008-2009', '2008-2009', '2008-2009', '2008-2009', '2008-2009', '2008-2009', '2008-2009', '2008-2009', '2008-2009', '2008-2010', '2008-2010', '2008-2010', '2008-2010', '2008-2010', '2008-2010', '2008-2011', '2008-2011', '2008-2011', '2008-2011', '2008-2012', '2008-2013', '2008-2013', '2008-2014', '2008-2014', '2008-2014', '2008-2015', '2008-2020', '2009', '2009', '2009', '2009', '2009', '2009', '2009', '2009', '2009', '2009', '2009-2010', '2009-2011', '2009-2011', '2009-2011', '2009-2011', '2009-2012', '2009-2012', '2009-2012', '2009-2012', '2009-2012', '2009-2012', '2009-2012', '2009-2013', '2009-2014', '2009-2014', '2009-2015', '2009-2016', '2009-2020', '2009-2023', '2010', '2010', '2010', '2010', '2010', '2010-2011', '2010-2011', '2010-2011', '2010-2011', '2010-2011', '2010-2011', '2010-2011', '2010-2012', '2010-2012', '2010-2012', '2010-2012', '2010-2012', '2010-2012', '2010-2012', '2010-2012', '2010-2013', '2010-2013', '2010-2013', '2010-2013', '2010-2013', '2010-2013', '2010-2013', '2010-2014', '2010-2014', '2010-2014', '2010-2015', '2010-2015', '2010-2015', '2010-2015', '2010-2017', '2010-2018', '2010-2018', '2010-2018', '2010-2019', '2010-2022', '2010-2023', '2011', '2011', '2011', '2011', '2011', '2011', '2011', '2011', '2011', '2011', '2011', '2011', '2011-2012', '2011-2012', '2011-2012', '2011-2012', '2011-2013', '2011-2013', '2011-2013', '2011-2013', '2011-2014', '2011-2015', '2011-2016', '2011-2016', '2011-2016', '2011-2016, 2021', '2011-2017', '2011-2021', '2012', '2012', '2012', '2012', '2012', '2012-2013', '2012-2013', '2012-2013', '2012-2013', '2012-2013', '2012-2013', '2012-2014', '2012-2014', '2012-2014', '2012-2014', '2012-2015', '2012-2015', '2012-2015', '2012-2015', '2012-2015', '2012-2015', '2012-2016', '2012-2016', '2012-2016', '2012-2017', '2012-2017', '2012-2017', '2012-2018', '2012-2018', '2012-2018', '2012-2020', '2013', '2013', '2013', '2013', '2013', '2013-2014', '2013-2014', '2013-2014', '2013-2014', '2013-2014', '2013-2014', '2013-2014', '2013-2014', '2013-2014', '2013-2015', '2013-2015', '2013-2015', '2013-2015', '2013-2015', '2013-2015', '2013-2015', '2013-2015', '2013-2015', '2013-2015', '2013-2015', '2013-2016', '2013-2016', '2013-2016', '2013-2017', '2013-2017', '2013-2017', '2013-2018', '2013-2018', '2013-2018', '2013-2019', '2013-2019', '2013-2019', '2013-2019', '2014', '2014', '2014', '2014', '2014', '2014', '2014', '2014', '2014', '2014-2015', '2014-2015', '2014-2015', '2014-2015', '2014-2016', '2014-2016', '2014-2016', '2014-2016', '2014-2017', '2014-2017', '2014-2017', '2014-2017', '2014-2017', '2014-2018', '2014-2018', '2014-2019', '2014-2019', '2014-2019', '2014-2019', '2014-2019', '2014-2020', '2014-2020', '2014-2021', '2015', '2015', '2015', '2015', '2015', '2015', '2015', '2015-2016', '2015-2016', '2015-2016', '2015-2016', '2015-2016', '2015-2016', '2015-2016', '2015-2017', '2015-2017', '2015-2017', '2015-2017', '2015-2017', '2015-2017', '2015-2017', '2015-2017', '2015-2018', '2015-2018', '2015-2018', '2015-2018', '2015-2018', '2015-2018', '2015-2018', '2015-2018', '2015-2018', '2015-2019', '2015-2019', '2015-2019', '2015-2019', '2015-2019', '2015-2019', '2015-2020', '2015-2020', '2015-2020', '2015-2021', '2015-2023', '2015-2024', '2016', '2016', '2016', '2016', '2016', '2016', '2016', '2016', '2016', '2016', '2016', '2016', '2016', '2016', '2016', '2016-2017', '2016-2017', '2016-2017', '2016-2017', '2016-2017', '2016-2017', '2016-2017', '2016-2017', '2016-2017', '2016-2018', '2016-2018', '2016-2018', '2016-2018', '2016-2018', '2016-2018', '2016-2018', '2016-2018', '2016-2018', '2016-2018', '2016-2018', '2016-2018', '2016-2018', '2016-2018', '2016-2018', '2016-2019', '2016-2019', '2016-2019', '2016-2019', '2016-2019', '2016-2019', '2016-2020', '2016-2020', '2016-2020', '2016-2020', '2016-2021', '2016-2021', '2017', '2017', '2017', '2017', '2017', '2017', '2017', '2017', '2017', '2017', '2017', '2017', '2017', '2017', '2017', '2017', '2017', '2017', '2017-2018', '2017-2018', '2017-2018', '2017-2018', '2017-2018', '2017-2018', '2017-2018', '2017-2018', '2017-2019', '2017-2019', '2017-2019', '2017-2019', '2017-2019', '2017-2019', '2017-2019', '2017-2019', '2017-2020', '2017-2020', '2017-2020', '2017-2020', '2017-2020', '2017-2020', '2017-2020', '2017-2020', '2017-2020', '2017-2020', '2017-2021', '2017-2021', '2017-2021', '2017-2021', '2017-2021', '2017-2021', '2017-2021', '2017-2021', '2017-2021', '2017-2021', '2018', '2018', '2018', '2018', '2018', '2018', '2018', '2018', '2018', '2018', '2018', '2018', '2018', '2018', '2018', '2018', '2018', '2018-2019', '2018-2019', '2018-2019', '2018-2019', '2018-2019', '2018-2019', '2018-2019', '2018-2019', '2018-2019', '2018-2019', '2018-2019', '2018-2019', '2018-2019', '2018-2020', '2018-2020', '2018-2020', '2018-2020', '2018-2020', '2018-2020', '2018-2020', '2018-2020', '2018-2020', '2018-2020', '2018-2021', '2018-2021', '2018-2021', '2018-2021', '2018-2021', '2018-2022', '2018-2022', '2018-2022', '2018-2022', '2018-2022', '2018-2022', '2018-2023', '2018-2023', '2018-2023', '2019', '2019', '2019', '2019', '2019', '2019', '2019', '2019', '2019', '2019', '2019', '2019', '2019', '2019', '2019', '2019', '2019', '2019', '2019', '2019', '2019-2020', '2019-2020', '2019-2020', '2019-2020', '2019-2020', '2019-2020', '2019-2020', '2019-2020', '2019-2020', '2019-2020', '2019-2020', '2019-2021', '2019-2021', '2019-2021', '2019-2021', '2019-2021', '2019-2021', '2019-2021', '2019-2021', '2019-2021', '2019-2021', '2019-2021', '2019-2021', '2019-2021', '2019-2021', '2019-2021', '2019-2021', '2019-2021', '2019-2021', '2019-2022', '2019-2022', '2019-2022', '2019-2022', '2019-2022', '2019-2022', '2019-2022', '2019-2022', '2019-2022', '2019-2022', '2019-2022', '2019-2022', '2020', '2020', '2020', '2020', '2020', '2020', '2020', '2020', '2020', '2020', '2020', '2020', '2020', '2020', '2020', '2020', '2020', '2020', '2020', '2020', '2020', '2020', '2020-2021', '2020-2021', '2020-2021', '2020-2021', '2020-2021', '2020-2021', '2020-2021', '2020-2021', '2020-2021', '2020-2022', '2020-2022', '2020-2022', '2020-2022', '2020-2022', '2020-2022', '2020-2022', '2020-2022', '2020-2022', '2020-2022', '2020-2022', '2020-2022', '2020-2022', '2020-2022', '2020-2022', '2020-2023', '2020-2023', '2020-2023', '2020-2023', '2020-2023', '2021', '2021', '2021', '2021', '2021', '2021', '2021', '2021', '2021', '2021', '2021', '2021', '2021', '2021', '2021', '2021', '2021', '2021', '2021', '2021', '2021', '2021', '2021', '2021', '2021', '2021', '2021', '2021', '2021', '2021', '2021', '2021', '2021', '2021', '2021', '2021', '2021', '2021', '2021', '2021', '2021', '2021', '2021', '2021', '2021', '2021', '2021', '2021', '2021', '2021', '2021', '2021', '2021', '2021', '2021', '2021', '2021', '2021', '2021', '2021', '2021', '2021', '2021-2022', '2021-2022', '2021-2022', '2021-2022', '2021-2022', '2021-2022', '2021-2022', '2021-2022', '2021-2022', '2021-2022', '2021-2022', '2021-2022', '2021-2022', '2021-2022', '2021-2022', '2021-2023', '2021-2023', '2021-2023', '2021-2023', '2021-2023', '2021-2024', '2022', '2022', '2022', '2022', '2022', '2022', '2022', '2022', '2022', '2022', '2022', '2022', '2022', '2022', '2022', '2022', '2022', '2022', '2022', '2022', '2022', '2022', '2022', '2022', '2022', '2022', '2022', '2022', '2022', '2022', '2022', '2022', '2022', '2022', '2022', '2022', '2022', '2022', '2022', '2022', '2022', '2022', '2022', '2022', '2022', '2022', '2022', '2022', '2022', '2022', '2022', '2022', '2022', '2022', '2022', '2022', '2022', '2022', '2022', '2022', '2022', '2022-2023', '2022-2023', '2022-2023', '2022-2023', '2022-2023', '2022-2023', '2023', '2023', '2023', '2023', '2023', '2023', '2023', '2023', '2023', '2023', '2023', '2023', '2023', '2023', '2023', '2023', '2023', '2023', '2023', '2023', '2023', '2023', '2023', '2023', '2023', '2023', '2023', '2023', '2023', '2023', '2023', '2023', '2023', '2023', '2023', '2023', '2023', '2023', '2023', '2023', '2023', '2023', '2023', '2023', '2023', '2023', '2023', '2023', '2023', '2023', '2023', '2023', '2023', '2024', '2024', '2024', '2024', '2024', '2024', '2024', '2024', '2024', '2024']\n"
     ]
    }
   ],
   "source": [
    "# Ordenar ano\n",
    "anos = sorted(df['Ano'])\n",
    "print(anos)"
   ]
  },
  {
   "cell_type": "code",
   "execution_count": 24,
   "metadata": {},
   "outputs": [
    {
     "name": "stdout",
     "output_type": "stream",
     "text": [
      "Mais antigo: 1949-1950\n",
      "\n",
      "Título: Jim and Judy in Teleland\n"
     ]
    }
   ],
   "source": [
    "# Mais antigo\n",
    "menor_ano = min(anos)\n",
    "print(\"Mais antigo:\", menor_ano)\n",
    "print()\n",
    "titulo=df.query(\"Ano == '1949-1950'\")['Título'].to_string(index=False)\n",
    "print(f'Título: {titulo}')\n"
   ]
  },
  {
   "cell_type": "code",
   "execution_count": 25,
   "metadata": {},
   "outputs": [
    {
     "name": "stdout",
     "output_type": "stream",
     "text": [
      "Ano mais recente: 2024\n"
     ]
    }
   ],
   "source": [
    "# Ano mais recente \n",
    "maior_ano = max(anos)\n",
    "print(\"Ano mais recente:\", maior_ano)"
   ]
  },
  {
   "cell_type": "code",
   "execution_count": 26,
   "metadata": {},
   "outputs": [
    {
     "name": "stdout",
     "output_type": "stream",
     "text": [
      "Número de ocorrências de '2024': 10\n",
      "\n",
      "-----------Títulos------------\n",
      "Dee & Friends in Oz\n",
      "Grimsburg\n",
      "Hazbin Hotel\n",
      "Hot Wheels Let's Race\n",
      "In the Know\n",
      "Lyla in the Loop\n",
      "Megamind Rules!\n",
      "RoboGobo\n",
      "Rock, Paper, Scissors\n",
      "The Second Best Hospital in the Galaxy\n"
     ]
    }
   ],
   "source": [
    "# Quantidade de Títulos mais recentes\n",
    "count_maior = anos.count('2024')\n",
    "print(\"Número de ocorrências de '2024':\", count_maior)\n",
    "print(\"\\n\" + f'{\"Títulos\":-^30}')\n",
    "titulo2=df.query('Ano == \"2024\"')['Título'].to_string(index=False)\n",
    "for titulo in titulo2.split('\\n'):\n",
    "    print(titulo.lstrip())"
   ]
  },
  {
   "cell_type": "code",
   "execution_count": 27,
   "metadata": {},
   "outputs": [
    {
     "name": "stdout",
     "output_type": "stream",
     "text": [
      "Valores únicos da coluna 'Técnica':\n",
      "1. Traditional\n",
      "2. CGI\n",
      "3. Flash\n",
      "4. Stop-Motion\n",
      "5. Traditional/Live-Action\n",
      "6. CGI/Flash/Stop-Motion/Live-Action\n",
      "7. Flash/Live-Action\n",
      "8. CGI/Flash/Stop-motion/Traditional\n",
      "9. Traditional (Seasons 1-15, 20-25)\n",
      "Cel (Seasons 1-3)\n",
      "Digital ink-and-paint (Seasons 4-15, 20-25)\n",
      "Flash (Seasons 16-25)\n",
      "Adobe Flash (Seasons 16-19)\n",
      "Toon Boom Harmony (Seasons 20-25)\n",
      "10. Traditional/Live-Action/Flash/CGI\n",
      "11. CGI/Live-Action\n",
      "12. Traditional (season 1)/Flash (season 2-3)\n",
      "13. Flash/Traditional/CGI\n",
      "14. Traditional/Stop-Motion/CGI/Flash\n",
      "15. Traditional (season 1)/Flash (season 2)\n",
      "16. Traditional/Digital ink-and-paint (seasons 1-5)/Flash/Adobe Flash (season 6-present)\n",
      "17. Flash/Traditional\n",
      "18. Traditional (seasons 1-9)/Flash (season 10)\n",
      "19. Stop-motion\n",
      "20. Flash/Live-action\n",
      "21. Traditional/Live-action\n",
      "22. Live-Action/Traditional\n",
      "23. Live-Action/Flash\n",
      "24. CGI/Flash/Live-action\n",
      "25. CGI/Live-action\n",
      "26. Traditional/Digital ink-and-paint (season 1)/Flash/Adobe Flash (seasons 2-6)\n",
      "27. Traditional/CGI\n",
      "28. Traditional/Flash\n",
      "29. Traditional/CGI/Stop-Motion\n",
      "30. Traditional/CGI/Stop-Motion/Live-Action\n",
      "31. Stop-Motion/Live-Action\n",
      "32. Stop-Motion/CGI/Flash\n",
      "33. Flash/Live action\n",
      "34. Traditional/Flash/CGI/Stop-Motion\n",
      "35. CGI/Flash\n",
      "36. CGI/Traditional/Flash\n",
      "37. CGI/Flash/Stop-Motion/Traditional/Live-action\n",
      "38. CGI/Stop-Motion/Flash/Traditional\n",
      "39. Flash/Live-Action/Traditional/CGI\n",
      "40. Flash/Traditional/Live-Action\n",
      "41. Stop-motion/Live-action\n",
      "\n",
      "Total de tecnicas: 41\n"
     ]
    }
   ],
   "source": [
    "# Técnicas usadas\n",
    "tecnica = df['Técnica'].unique() # Valores únicos\n",
    "total_tecnica = len(tecnica) # Contagem\n",
    "\n",
    "print(\"Valores únicos da coluna 'Técnica':\")\n",
    "for i, valor in enumerate(tecnica, 1): # Loop em cada técnica\n",
    "    print(f\"{i}. {valor}\")\n",
    "\n",
    "print(f\"\\nTotal de tecnicas: {total_tecnica}\") # Resposta"
   ]
  },
  {
   "cell_type": "code",
   "execution_count": 28,
   "metadata": {},
   "outputs": [
    {
     "name": "stdout",
     "output_type": "stream",
     "text": [
      "---------------Técnica: Temporadas----------------\n",
      "1- 2 Stupid Dogs: Traditional (Seasons 1-15, 20-25)\n",
      "2- 3-2-1 Penguins!: Cel (Seasons 1-3)\n",
      "3- 3-South: Digital ink-and-paint (Seasons 4-15, 20-25)\n",
      "4- 3Below: Tales of Arcadia: Flash (Seasons 16-25)\n",
      "5- 3rd & Bird: Adobe Flash (Seasons 16-19)\n",
      "6- The 7D: Toon Boom Harmony (Seasons 20-25)\n",
      "7- 12 oz. Mouse: Traditional (season 1)/Flash (season 2-3)\n",
      "8- The 13 Ghosts of Scooby-Doo: Traditional (season 1)/Flash (season 2)\n",
      "9- 101 Dalmatians: The Series: Traditional/Digital ink-and-paint (seasons 1-5)/Flash/Adobe Flash (season 6-present)\n",
      "10- Aaahh!!! Real Monsters: Traditional (seasons 1-9)/Flash (season 10)\n",
      "11- Abby's Flying Fairy School: Traditional/Digital ink-and-paint (season 1)/Flash/Adobe Flash (seasons 2-6)\n"
     ]
    }
   ],
   "source": [
    "# Escolhendo um tipo de técnica\n",
    "import re\n",
    "\n",
    "descricoes = [\n",
    "    'Traditional',\n",
    "    'CGI',\n",
    "    'Flash',\n",
    "    'Stop-Motion',\n",
    "    'Traditional/Live-Action',\n",
    "    'CGI/Flash/Stop-Motion/Live-Action',\n",
    "    'Flash/Live-Action',\n",
    "    'CGI/Flash/Stop-motion/Traditional',\n",
    "    'Traditional (Seasons 1-15, 20-25)',\n",
    "    'Cel (Seasons 1-3)',\n",
    "    'Digital ink-and-paint (Seasons 4-15, 20-25)',\n",
    "    'Flash (Seasons 16-25)',\n",
    "    'Adobe Flash (Seasons 16-19)',\n",
    "    'Toon Boom Harmony (Seasons 20-25)',\n",
    "    'Traditional/Live-Action/Flash/CGI',\n",
    "    'CGI/Live-Action',\n",
    "    'Traditional (season 1)/Flash (season 2-3)',\n",
    "    'Flash/Traditional/CGI',\n",
    "    'Traditional/Stop-Motion/CGI/Flash',\n",
    "    'Traditional (season 1)/Flash (season 2)',\n",
    "    'Traditional/Digital ink-and-paint (seasons 1-5)/Flash/Adobe Flash (season 6-present)',\n",
    "    'Flash/Traditional',\n",
    "    'Traditional (seasons 1-9)/Flash (season 10)',\n",
    "    'Stop-motion',\n",
    "    'Flash/Live-action',\n",
    "    'Traditional/Live-action',\n",
    "    'Live-Action/Traditional',\n",
    "    'Live-Action/Flash',\n",
    "    'CGI/Flash/Live-action',\n",
    "    'CGI/Live-action',\n",
    "    'Traditional/Digital ink-and-paint (season 1)/Flash/Adobe Flash (seasons 2-6)',\n",
    "    'Traditional/CGI',\n",
    "    'Traditional/Flash',\n",
    "    'Traditional/CGI/Stop-Motion',\n",
    "    'Traditional/CGI/Stop-Motion/Live-Action',\n",
    "    'Stop-Motion/Live-Action',\n",
    "    'Stop-Motion/CGI/Flash',\n",
    "    'Flash/Live action',\n",
    "    'Traditional/Flash/CGI/Stop-Motion',\n",
    "    'CGI/Flash',\n",
    "    'CGI/Traditional/Flash',\n",
    "    'CGI/Flash/Stop-Motion/Traditional/Live-action',\n",
    "    'CGI/Stop-Motion/Flash/Traditional',\n",
    "    'Flash/Live-Action/Traditional/CGI',\n",
    "    'Flash/Traditional/Live-Action',\n",
    "    'Stop-motion/Live-action'\n",
    "]\n",
    "\n",
    "# Encontrar o padrão que contêm \"Season\" ou \"Seasons\"\n",
    "padrao = re.compile(r'(Seasons?)', re.IGNORECASE)\n",
    "\n",
    "# Filtrar as descrições que correspondem ao padrão\n",
    "descricoes_com_season = filter(lambda descricao: padrao.search(descricao), descricoes)\n",
    "\n",
    "# Imprimir\n",
    "titulo=df['Título']\n",
    "print(f'{\"Técnica: Temporadas\":-^50}')\n",
    "for i, (descricao, titulo) in enumerate(zip(descricoes_com_season, titulo), 1):\n",
    "    print(f\"{i}- {titulo}: {descricao}\")\n"
   ]
  },
  {
   "cell_type": "code",
   "execution_count": 29,
   "metadata": {},
   "outputs": [
    {
     "data": {
      "text/plain": [
       "array([0. , 1.5, 1.6, 1.7, 1.9, 2. , 2.1, 2.2, 2.3, 2.5, 2.6, 2.7, 2.8,\n",
       "       2.9, 3. , 3.1, 3.2, 3.3, 3.4, 3.5, 3.6, 3.7, 3.8, 3.9, 4. , 4.1,\n",
       "       4.2, 4.3, 4.4, 4.5, 4.6, 4.7, 4.8, 4.9, 5. , 5.1, 5.2, 5.3, 5.4,\n",
       "       5.5, 5.6, 5.7, 5.8, 5.9, 6. , 6.1, 6.2, 6.3, 6.4, 6.5, 6.6, 6.7,\n",
       "       6.8, 6.9, 7. , 7.1, 7.2, 7.3, 7.4, 7.5, 7.6, 7.7, 7.8, 7.9, 8. ,\n",
       "       8.1, 8.2, 8.3, 8.4, 8.5, 8.6, 8.7, 8.8, 8.9, 9. , 9.1, 9.3])"
      ]
     },
     "execution_count": 29,
     "metadata": {},
     "output_type": "execute_result"
    }
   ],
   "source": [
    "# Ordenar coluna 'IMDb'\n",
    "ordenar =df ['IMDb'].unique()\n",
    "ordenar.sort()\n",
    "ordenar"
   ]
  },
  {
   "cell_type": "code",
   "execution_count": 30,
   "metadata": {},
   "outputs": [
    {
     "data": {
      "text/plain": [
       "6.7"
      ]
     },
     "execution_count": 30,
     "metadata": {},
     "output_type": "execute_result"
    }
   ],
   "source": [
    "# Média 'IMDb\n",
    "media=df['IMDb'].mean()\n",
    "media.round(2)"
   ]
  },
  {
   "cell_type": "code",
   "execution_count": 31,
   "metadata": {},
   "outputs": [
    {
     "name": "stdout",
     "output_type": "stream",
     "text": [
      "----------Títulos com pontuação do IMDb-----------\n",
      "Adventure Time: Fionna and Cake\n",
      "Agent Elvis\n",
      "Alabama Jackson\n",
      "American Dad!\n",
      "Aqua Teen Hunger Force\n",
      "Aquadonk Side Pieces\n",
      "Alma's Way\n",
      "The Amazing World of Gumball\n",
      "Arcane\n",
      "Baman Piderman\n"
     ]
    }
   ],
   "source": [
    "# Filtro de filmes ou serie apartir de 2000 com pontuação 6.7\n",
    "print(f'{\"Títulos com pontuação do IMDb\":-^50}')\n",
    "convertendo=df_copia[(df_copia['Ano'] >= 2000) & (df_copia['IMDb'] >= 6.7 )]['Título']\n",
    "convertendo2=convertendo.head(10).to_string(index=False)\n",
    "convertendo2\n",
    "for i in convertendo2.split('\\n'):\n",
    "    print(i.lstrip())"
   ]
  },
  {
   "cell_type": "code",
   "execution_count": 32,
   "metadata": {},
   "outputs": [
    {
     "name": "stdout",
     "output_type": "stream",
     "text": [
      "---------Recomendação por pontuação IMDb----------\n",
      "\n",
      "1. Avatar: The Last Airbender, Porcentagem: 9.3\n",
      "2. Jelly, Ben, & Pogo, Porcentagem: 9.3\n",
      "3. Rick and Morty, Porcentagem: 9.1\n",
      "4. Office Ladies: The Animated Series, Porcentagem: 9.1\n",
      "5. Open Season: Call of Nature, Porcentagem: 9.0\n",
      "6. Batman: The Animated Series, Porcentagem: 9.0\n",
      "7. Arcane, Porcentagem: 9.0\n",
      "8. Face's Music Party, Porcentagem: 8.9\n",
      "9. Adventure Time: Fionna and Cake, Porcentagem: 8.9\n",
      "10. Saving Me, Porcentagem: 8.9\n"
     ]
    }
   ],
   "source": [
    "# Ordenar em forma decrescente \n",
    "contagem_ordenada = df['IMDb'].sort_values(ascending=False)\n",
    "\n",
    "print(f'{\"Recomendação por pontuação IMDb\":-^50}')\n",
    "print()\n",
    "for i, index in enumerate(contagem_ordenada.head(10).index, 1): # Loop nos maiores pontuação\n",
    "    nome = df.loc[index, 'Título']  \n",
    "    print(f\"{i}. {nome}, Porcentagem: {contagem_ordenada[index]}\") # Resultado"
   ]
  },
  {
   "cell_type": "code",
   "execution_count": null,
   "metadata": {},
   "outputs": [
    {
     "name": "stdout",
     "output_type": "stream",
     "text": [
      "505\n"
     ]
    }
   ],
   "source": [
    "# Total de empresas\n",
    "df['Empresa Americana'] = df[df['Empresa Americana'] != 0]['Empresa Americana']\n",
"total_empresas= df['Empresa Americana'].nunique()\n",
"total_empresas"
   ]
  },
  {
   "cell_type": "code",
   "execution_count": 47,
   "metadata": {},
   "outputs": [
    {
     "name": "stdout",
     "output_type": "stream",
     "text": [
      "------Empresas e a quantidade de frequência-------\n",
      "\n",
      "Empresa Americana\n",
      "Hanna-Barbera                                                  189\n",
      "DIC Entertainment                                               71\n",
      "Warner Bros. Animation                                          61\n",
      "Nickelodeon Animation Studio                                    57\n",
      "Cartoon Network Studios                                         54\n",
      "Disney Television Animation                                     52\n",
      "DreamWorks Animation Television                                 47\n",
      "Filmation                                                       42\n",
      "Walt Disney Television Animation                                41\n",
      "Williams Street                                                 36\n",
      "Netflix Animation                                               25\n",
      "Saban Entertainment                                             24\n",
      "Ruby-Spears Enterprises                                         24\n",
      "Titmouse, Inc.                                                  20\n",
      "Sunbow Entertainment                                            19\n",
      "Hasbro Studios                                                  18\n",
      "Warner Bros. AnimationDC Entertainment                          16\n",
      "DePatie-Freleng Enterprises                                     16\n",
      "Film Roman                                                      15\n",
      "Adelaide Productions                                            15\n",
      "Marvel Animation                                                14\n",
      "Amazon Studios                                                  14\n",
      "MTV Animation                                                   14\n",
      "Mattel Television                                               14\n",
      "Marvel Productions                                              13\n",
      "ShadowMachine                                                   12\n",
      "Bento Box Entertainment                                         11\n",
      "Brown Bag Films                                                 11\n",
      "Mike Young Productions                                          10\n",
      "Nelvana                                                         10\n",
      "Frederator Studios                                              10\n",
      "The Jim Henson Company                                          10\n",
      "Universal Cartoon Studios                                       10\n",
      "WGBH                                                             9\n",
      "Lucasfilm                                                        9\n",
      "ADHD Studios                                                     8\n",
      "Sesame Workshop                                                  8\n",
      "Fred Wolf Films                                                  7\n",
      "Stoopid Buddy Stoodios                                           7\n",
      "Rankin/Bass Productions                                          7\n",
      "Marvel Entertainment                                             7\n",
      "Terrytoons                                                       7\n",
      "PorchLight Entertainment                                         6\n",
      "Walt Disney Productions                                          6\n",
      "Little Airplane Productions                                      6\n",
      "Cartuna                                                          6\n",
      "Big Idea Productions                                             6\n",
      "Wild Canary Animation                                            6\n",
      "SD Entertainment                                                 6\n",
      "Pixar Animation Studios                                          6\n",
      "MoonScoop Entertainment                                          6\n",
      "Klasky CsupoNickelodeon Animation Studio                         6\n",
      "Animation Collective                                             5\n",
      "World Events Productions                                         5\n",
      "Total Television                                                 5\n",
      "Fuzzy Door Productions                                           5\n",
      "Klasky Csupo                                                     5\n",
      "Powerhouse Animation Studios                                     5\n",
      "Floyd County Productions                                         5\n",
      "Sunbow Productions                                               5\n",
      "Soup2Nuts                                                        5\n",
      "Sony Pictures Animation                                          5\n",
      "The Lego Group                                                   5\n",
      "Universal Animation Studios                                      4\n",
      "Warner Bros. Cartoons                                            4\n",
      "Curious Pictures                                                 4\n",
      "Hyperion Animation                                               4\n",
      "Marvel Studios                                                   4\n",
      "Jay Ward Productions                                             4\n",
      "Spümcø                                                           4\n",
      "Mondo Media                                                      4\n",
      "6 Point Harness                                                  4\n",
      "OddBot Inc.                                                      4\n",
      "Hasbro                                                           4\n",
      "Saban Brands                                                     4\n",
      "Rooster Teeth                                                    3\n",
      "Bagdasarian Productions                                          3\n",
      "Abrams/Gentile Entertainment                                     3\n",
      "41 Entertainment                                                 3\n",
      "CBS Eye Animation Productions                                    3\n",
      "Cartoon Pizza                                                    3\n",
      "Billionfold Inc.Nickelodeon Animation Studio                     3\n",
      "Frederator StudiosNickelodeon Animation Studio                   3\n",
      "Frederator StudiosCartoon Network Studios                        3\n",
      "Home Plate Entertainment                                         3\n",
      "Allspark                                                         3\n",
      "Scholastic Corporation                                           3\n",
      "Genius Brands                                                    3\n",
      "Fred Rogers Productions                                          3\n",
      "Cambria Productions                                              3\n",
      "Scholastic Productions                                           3\n",
      "Atomic Cartoons                                                  3\n",
      "JibJab Bros. Studios                                             3\n",
      "Peanuts Worldwide                                                3\n",
      "Zodiac Entertainment                                             3\n",
      "Splash Entertainment                                             3\n",
      "Walt Disney Animation Studios                                    3\n",
      "Bardel Entertainment                                             3\n",
      "MGM Animation                                                    3\n",
      "Bohbot Entertainment                                             3\n",
      "PFFR                                                             3\n",
      "Silvergate Media                                                 3\n",
      "American Greetings                                               3\n",
      "Tom Snyder Productions                                           2\n",
      "Mirari FilmsWilliams Street                                      2\n",
      "Scholastic Entertainment                                         2\n",
      "The Walt Disney Company                                          2\n",
      "Pipeline Studios                                                 2\n",
      "Graz Entertainment                                               2\n",
      "United Productions of America                                    2\n",
      "Colossal Pictures                                                2\n",
      "Jambalaya Studios                                                2\n",
      "Felix the Cat Productions                                        2\n",
      "Videocraft Productions                                           2\n",
      "Total TelevisionLeonardo Television                              2\n",
      "Warner Bros. Television                                          2\n",
      "FilmationDC Comics                                               2\n",
      "Topps Animation                                                  2\n",
      "TZGZ Productions                                                 2\n",
      "Man of Action Entertainment                                      2\n",
      "Harvey Films                                                     2\n",
      "Wildbrain Entertainment                                          2\n",
      "Henson Associates                                                2\n",
      "Ruby-Spears Productions                                          2\n",
      "Classic Media                                                    2\n",
      "DreamWorks Animation TelevisionNickelodeon Animation Studio      2\n",
      "Spike Animation                                                  2\n",
      "YouTube Studio                                                   2\n",
      "United Plankton PicturesNickelodeon Animation Studio             2\n",
      "One Red Room                                                     2\n",
      "Augenblick Studios                                               2\n",
      "Lucasfilm Animation                                              2\n",
      "4Kids Entertainment                                              2\n",
      "National Geographic Kids                                         2\n",
      "Marvel Studios Animation                                         2\n",
      "Twin Cities PBS                                                  2\n",
      "Kickstart Productions                                            2\n",
      "Headspace Studios                                                2\n",
      "Universal Content Productions                                    2\n",
      "Titmouse, Inc                                                    2\n",
      "Jetix Animation Concepts                                         2\n",
      "Carsey-Werner Productions                                        2\n",
      "King Features Syndicate                                          2\n",
      "MoonScoop Group                                                  2\n",
      "Joe Murray Productions                                           2\n",
      "Fogelmania ProductionsMTV Animation                              2\n",
      "icebox.com                                                       2\n",
      "Renegade Animation                                               2\n",
      "Rankin/Bass Animated Entertainment                               2\n",
      "Sprout Originals                                                 2\n",
      "Cloudco Entertainment                                            2\n",
      "a.k.a. Cartoon                                                   2\n",
      "Wilo Productions                                                 2\n",
      "Trans-Artists Productions                                        2\n",
      "Damn! Show Productions                                           2\n",
      "Hal Seeger Productions                                           2\n",
      "Splash EntertainmentAmerican Greetings                           2\n",
      "Tempe-Toons                                                      2\n",
      "Omation Animation StudioNickelodeon Animation Studio             2\n",
      "Magic Screen Pictures Inc.                                       2\n",
      "Broadway Video                                                   2\n",
      "Name: count, dtype: int64\n"
     ]
    }
   ],
   "source": [
    "# Empresas que aparecem mais que uma vez\n",
    "print(f'{\"Empresas e a quantidade de frequência\":-^50}')\n",
    "print()\n",
    "\n",
    "# Contar a frequência de cada empresa\n",
    "empresas = df['Empresa Americana'].value_counts()\n",
    "\n",
    "# Filtrar empresas com mais de 1 ocorrência e que são diferentes de 0\n",
    "empresas_maior_que_1 = empresas[(empresas > 1) & (empresas.index != 0)]\n",
    "print(empresas_maior_que_1)"
   ]
  }
 ],
 "metadata": {
  "kernelspec": {
   "display_name": "Python 3",
   "language": "python",
   "name": "python3"
  },
  "language_info": {
   "codemirror_mode": {
    "name": "ipython",
    "version": 3
   },
   "file_extension": ".py",
   "mimetype": "text/x-python",
   "name": "python",
   "nbconvert_exporter": "python",
   "pygments_lexer": "ipython3",
   "version": "3.12.2"
  }
 },
 "nbformat": 4,
 "nbformat_minor": 2
}
